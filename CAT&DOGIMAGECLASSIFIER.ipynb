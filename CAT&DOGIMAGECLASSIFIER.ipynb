{
  "nbformat": 4,
  "nbformat_minor": 0,
  "metadata": {
    "colab": {
      "provenance": []
    },
    "kernelspec": {
      "name": "python3",
      "display_name": "Python 3"
    },
    "language_info": {
      "name": "python"
    }
  },
  "cells": [
    {
      "cell_type": "markdown",
      "source": [
        "**DOG AND CAT IMAGE CLASSIFIER USING 3 ADVANCED IMAGE CLASSIFIER**"
      ],
      "metadata": {
        "id": "cxqshEyypSbx"
      }
    },
    {
      "cell_type": "code",
      "source": [
        "#IMPORTING THE NECESSARY LIBRARIES\n",
        "import tensorflow as tf\n",
        "from tensorflow.keras.datasets import cifar10\n",
        "from tensorflow.keras.models import Sequential\n",
        "from tensorflow.keras.layers import Conv2D, MaxPooling2D, Flatten, Dense, Dropout\n",
        "from tensorflow.keras.utils import to_categorical\n",
        "import numpy as np\n",
        "import matplotlib.pyplot as plt"
      ],
      "metadata": {
        "id": "P7EcAsDpkRla"
      },
      "execution_count": 9,
      "outputs": []
    },
    {
      "cell_type": "code",
      "source": [
        "# LOADING THE CIFAR-10 DATASET\n",
        "(train_images, train_labels), (test_images, test_labels) = cifar10.load_data()"
      ],
      "metadata": {
        "id": "av9UN1iWkca6"
      },
      "execution_count": 10,
      "outputs": []
    },
    {
      "cell_type": "code",
      "source": [
        "# CLASS NAME FOR CIFAR-10 DATASET (INDEX 3 AND 5 CORRESPOND TO CAT AND DOG)\n",
        "class_names = ['airplane', 'automobile', 'bird', 'cat', 'deer',\n",
        "               'dog', 'frog', 'horse', 'ship', 'truck']"
      ],
      "metadata": {
        "id": "b1CkuEirkiz3"
      },
      "execution_count": 11,
      "outputs": []
    },
    {
      "cell_type": "code",
      "source": [
        "#FILTERING THE CAT (class 3) and DOG (class 5) IMAGES AND LABEL\n",
        "cat_indices_train = np.where(train_labels == 3)[0]\n",
        "dog_indices_train = np.where(train_labels == 5)[0]\n",
        "\n",
        "cat_indices_test = np.where(test_labels == 3)[0]\n",
        "dog_indices_test = np.where(test_labels == 5)[0]\n",
        "\n",
        "cat_images_train = train_images[cat_indices_train]\n",
        "dog_images_train = train_images[dog_indices_train]\n",
        "\n",
        "cat_images_test = test_images[cat_indices_test]\n",
        "dog_images_test = test_images[dog_indices_test]"
      ],
      "metadata": {
        "id": "Gs4hkAd0k-wu"
      },
      "execution_count": 12,
      "outputs": []
    },
    {
      "cell_type": "code",
      "source": [
        "#ASSIGNING LABELS FOR CAT (class 0) AND DOG (class 1)\n",
        "cat_labels_train = np.zeros(cat_images_train.shape[0])\n",
        "dog_labels_train = np.ones(dog_images_train.shape[0])\n",
        "\n",
        "cat_labels_test = np.zeros(cat_images_test.shape[0])\n",
        "dog_labels_test = np.ones(dog_images_test.shape[0])"
      ],
      "metadata": {
        "id": "_hZX225LlNXj"
      },
      "execution_count": 14,
      "outputs": []
    },
    {
      "cell_type": "code",
      "source": [
        "#COMBINING DOG AND CAT DATA\n",
        "X_train = np.concatenate([cat_images_train, dog_images_train], axis=0)\n",
        "y_train = np.concatenate([cat_labels_train, dog_labels_train], axis=0)\n",
        "\n",
        "X_test = np.concatenate([cat_images_test, dog_images_test], axis=0)\n",
        "y_test = np.concatenate([cat_labels_test, dog_labels_test], axis=0)"
      ],
      "metadata": {
        "id": "WDypGrwllNjf"
      },
      "execution_count": 16,
      "outputs": []
    },
    {
      "cell_type": "code",
      "source": [
        "#NORMALIZE PIXEL VALUES BETWEEN 0 and 1\n",
        "X_train = X_train / 255.0\n",
        "X_test = X_test / 255.0"
      ],
      "metadata": {
        "id": "20jdMt9pllT-"
      },
      "execution_count": 18,
      "outputs": []
    },
    {
      "cell_type": "code",
      "source": [
        "#CONVERTING LABELS TO CATEGORICAL\n",
        "y_train = to_categorical(y_train, num_classes=2)\n",
        "y_test = to_categorical(y_test, num_classes=2)"
      ],
      "metadata": {
        "id": "rY3nZzyXlld8"
      },
      "execution_count": 19,
      "outputs": []
    },
    {
      "cell_type": "code",
      "source": [
        "#DEFINING AND TRAINING BASIC CNN\n",
        "model1 = Sequential([\n",
        "    Conv2D(32, (3, 3), activation='relu', input_shape=(32, 32, 3)),\n",
        "    MaxPooling2D((2, 2)),\n",
        "    Conv2D(64, (3, 3), activation='relu'),\n",
        "    MaxPooling2D((2, 2)),\n",
        "    Flatten(),\n",
        "    Dense(64, activation='relu'),\n",
        "    Dense(2, activation='softmax')\n",
        "])\n",
        "\n",
        "model1.compile(optimizer='adam', loss='categorical_crossentropy', metrics=['accuracy'])\n",
        "\n",
        "model1.fit(X_train, y_train, epochs=5, batch_size=32, validation_data=(X_test, y_test))\n"
      ],
      "metadata": {
        "colab": {
          "base_uri": "https://localhost:8080/"
        },
        "id": "6YbA0ILsllsa",
        "outputId": "057d5159-3da4-48c0-ae3c-a627e8508777"
      },
      "execution_count": 22,
      "outputs": [
        {
          "output_type": "stream",
          "name": "stdout",
          "text": [
            "Epoch 1/5\n",
            "313/313 [==============================] - 13s 39ms/step - loss: 0.6932 - accuracy: 0.4929 - val_loss: 0.6931 - val_accuracy: 0.5000\n",
            "Epoch 2/5\n",
            "313/313 [==============================] - 13s 40ms/step - loss: 0.6932 - accuracy: 0.4970 - val_loss: 0.6932 - val_accuracy: 0.5000\n",
            "Epoch 3/5\n",
            "313/313 [==============================] - 13s 40ms/step - loss: 0.6932 - accuracy: 0.4930 - val_loss: 0.6932 - val_accuracy: 0.5000\n",
            "Epoch 4/5\n",
            "313/313 [==============================] - 13s 43ms/step - loss: 0.6932 - accuracy: 0.4972 - val_loss: 0.6932 - val_accuracy: 0.5000\n",
            "Epoch 5/5\n",
            "313/313 [==============================] - 12s 40ms/step - loss: 0.6932 - accuracy: 0.4990 - val_loss: 0.6931 - val_accuracy: 0.5000\n"
          ]
        },
        {
          "output_type": "execute_result",
          "data": {
            "text/plain": [
              "<keras.src.callbacks.History at 0x7f0ad2d4f100>"
            ]
          },
          "metadata": {},
          "execution_count": 22
        }
      ]
    },
    {
      "cell_type": "code",
      "source": [
        "#EVALUATING AND PRINTING THE ACCURACY OF CNN\n",
        "loss_cnn, accuracy_cnn = model1.evaluate(X_test, y_test)\n",
        "print(\"CNN Test Accuracy:\", accuracy_cnn)"
      ],
      "metadata": {
        "colab": {
          "base_uri": "https://localhost:8080/"
        },
        "id": "prYQkXXdrfCi",
        "outputId": "1ffb9b3a-6e83-4e06-a9a3-4972d4ea4c86"
      },
      "execution_count": 26,
      "outputs": [
        {
          "output_type": "stream",
          "name": "stdout",
          "text": [
            "63/63 [==============================] - 1s 13ms/step - loss: 0.6931 - accuracy: 0.5000\n",
            "CNN Test Accuracy: 0.5\n"
          ]
        }
      ]
    },
    {
      "cell_type": "code",
      "source": [
        "#DEFINING AND TRAINING VGG16\n",
        "from tensorflow.keras.applications import VGG16\n",
        "from tensorflow.keras.layers import GlobalAveragePooling2D\n",
        "\n",
        "base_model = VGG16(weights='imagenet', include_top=False, input_shape=(32, 32, 3))\n",
        "\n",
        "model2 = Sequential([\n",
        "    base_model,\n",
        "    GlobalAveragePooling2D(),\n",
        "    Dense(128, activation='relu'),\n",
        "    Dropout(0.5),\n",
        "    Dense(2, activation='softmax')\n",
        "])\n",
        "\n",
        "model2.layers[0].trainable = False  # Freeze VGG-16 base layers\n",
        "\n",
        "model2.compile(optimizer='adam', loss='categorical_crossentropy', metrics=['accuracy'])\n",
        "\n",
        "model2.fit(X_train, y_train, epochs=5, batch_size=32, validation_data=(X_test, y_test))\n"
      ],
      "metadata": {
        "colab": {
          "base_uri": "https://localhost:8080/"
        },
        "id": "8axA24vhm0JX",
        "outputId": "9edc7d3a-e6d4-446f-ea39-d55f8911844b"
      },
      "execution_count": 23,
      "outputs": [
        {
          "output_type": "stream",
          "name": "stdout",
          "text": [
            "Epoch 1/5\n",
            "313/313 [==============================] - 161s 509ms/step - loss: 0.7023 - accuracy: 0.5038 - val_loss: 0.6945 - val_accuracy: 0.5000\n",
            "Epoch 2/5\n",
            "313/313 [==============================] - 166s 532ms/step - loss: 0.6940 - accuracy: 0.4932 - val_loss: 0.6932 - val_accuracy: 0.5000\n",
            "Epoch 3/5\n",
            "313/313 [==============================] - 159s 510ms/step - loss: 0.6933 - accuracy: 0.4933 - val_loss: 0.6931 - val_accuracy: 0.5000\n",
            "Epoch 4/5\n",
            "313/313 [==============================] - 145s 462ms/step - loss: 0.6932 - accuracy: 0.4879 - val_loss: 0.6931 - val_accuracy: 0.5000\n",
            "Epoch 5/5\n",
            "313/313 [==============================] - 168s 537ms/step - loss: 0.6932 - accuracy: 0.4944 - val_loss: 0.6931 - val_accuracy: 0.5000\n"
          ]
        },
        {
          "output_type": "execute_result",
          "data": {
            "text/plain": [
              "<keras.src.callbacks.History at 0x7f0ad2ccd330>"
            ]
          },
          "metadata": {},
          "execution_count": 23
        }
      ]
    },
    {
      "cell_type": "code",
      "source": [
        "#EVALUATING AND PRINTING THE ACCURACY OF VGG\n",
        "loss_vgg, accuracy_vgg = model2.evaluate(X_test, y_test)\n",
        "print(\"VGG Test Accuracy:\", accuracy_vgg)"
      ],
      "metadata": {
        "colab": {
          "base_uri": "https://localhost:8080/"
        },
        "id": "dh9kFxm1r6VY",
        "outputId": "f5f33359-a716-48e0-a434-887ed3d5ac5e"
      },
      "execution_count": 27,
      "outputs": [
        {
          "output_type": "stream",
          "name": "stdout",
          "text": [
            "63/63 [==============================] - 24s 380ms/step - loss: 0.6931 - accuracy: 0.5000\n",
            "VGG Test Accuracy: 0.5\n"
          ]
        }
      ]
    },
    {
      "cell_type": "code",
      "source": [
        "#DEFINING AND TRAINING RESNET-50\n",
        "from tensorflow.keras.applications import ResNet50\n",
        "from tensorflow.keras.layers import GlobalAveragePooling2D\n",
        "\n",
        "base_model = ResNet50(weights='imagenet', include_top=False, input_shape=(32, 32, 3))\n",
        "\n",
        "model3 = Sequential([\n",
        "    base_model,\n",
        "    GlobalAveragePooling2D(),\n",
        "    Dense(128, activation='relu'),\n",
        "    Dropout(0.5),\n",
        "    Dense(2, activation='softmax')\n",
        "])\n",
        "\n",
        "model3.layers[0].trainable = False  # Freeze ResNet-50 base layers\n",
        "\n",
        "model3.compile(optimizer='adam', loss='categorical_crossentropy', metrics=['accuracy'])\n",
        "\n",
        "model3.fit(X_train, y_train, epochs=5, batch_size=32, validation_data=(X_test, y_test))\n"
      ],
      "metadata": {
        "colab": {
          "base_uri": "https://localhost:8080/"
        },
        "id": "paC_fT--nGzN",
        "outputId": "b19a3005-64ef-48bd-e990-04757449a9e0"
      },
      "execution_count": 28,
      "outputs": [
        {
          "output_type": "stream",
          "name": "stdout",
          "text": [
            "Downloading data from https://storage.googleapis.com/tensorflow/keras-applications/resnet/resnet50_weights_tf_dim_ordering_tf_kernels_notop.h5\n",
            "94765736/94765736 [==============================] - 4s 0us/step\n",
            "Epoch 1/5\n",
            "313/313 [==============================] - 69s 207ms/step - loss: 0.7164 - accuracy: 0.5015 - val_loss: 0.6932 - val_accuracy: 0.5000\n",
            "Epoch 2/5\n",
            "313/313 [==============================] - 52s 165ms/step - loss: 0.6932 - accuracy: 0.4976 - val_loss: 0.6931 - val_accuracy: 0.5000\n",
            "Epoch 3/5\n",
            "313/313 [==============================] - 62s 198ms/step - loss: 0.6932 - accuracy: 0.4970 - val_loss: 0.6932 - val_accuracy: 0.5000\n",
            "Epoch 4/5\n",
            "313/313 [==============================] - 53s 170ms/step - loss: 0.6932 - accuracy: 0.4994 - val_loss: 0.6932 - val_accuracy: 0.5000\n",
            "Epoch 5/5\n",
            "313/313 [==============================] - 54s 172ms/step - loss: 0.6932 - accuracy: 0.4964 - val_loss: 0.6931 - val_accuracy: 0.5000\n"
          ]
        },
        {
          "output_type": "execute_result",
          "data": {
            "text/plain": [
              "<keras.src.callbacks.History at 0x7f0acac42e60>"
            ]
          },
          "metadata": {},
          "execution_count": 28
        }
      ]
    },
    {
      "cell_type": "code",
      "source": [
        "#EVALUATING AND PRINTING THE ACCURACY OF RESNET-50\n",
        "loss_res, accuracy_res = model3.evaluate(X_test, y_test)\n",
        "print(\"RESNET-50 Test Accuracy:\", accuracy_res)"
      ],
      "metadata": {
        "colab": {
          "base_uri": "https://localhost:8080/"
        },
        "id": "eFEVf1gonnsb",
        "outputId": "5477db86-8f79-430d-82a9-4e18e028b4f8"
      },
      "execution_count": 29,
      "outputs": [
        {
          "output_type": "stream",
          "name": "stdout",
          "text": [
            "63/63 [==============================] - 9s 142ms/step - loss: 0.6931 - accuracy: 0.5000\n",
            "RESNET-50 Test Accuracy: 0.5\n"
          ]
        }
      ]
    },
    {
      "cell_type": "code",
      "source": [
        "#DATA VISUALIZATION\n",
        "#PLOTTING BAR PLOT FOR 3 MODEL ACCURACIES\n",
        "plt.figure(figsize=(12, 6))\n",
        "x=['CNN acc','VGG acc','RESNET-50 acc']\n",
        "y=[0.5,0.5,0.5]\n",
        "plt.bar(x,y,color='pink')\n",
        "\n",
        "plt.title('3-Image Classifier and their Accuracy')\n",
        "plt.xlabel('Image Classifiers')\n",
        "plt.ylabel('Accuracy')\n",
        "plt.legend()\n",
        "plt.grid()\n",
        "plt.show()"
      ],
      "metadata": {
        "colab": {
          "base_uri": "https://localhost:8080/",
          "height": 581
        },
        "id": "FghWDqN4v8BW",
        "outputId": "64a2b950-0581-405a-db4f-57939b00a842"
      },
      "execution_count": 37,
      "outputs": [
        {
          "output_type": "stream",
          "name": "stderr",
          "text": [
            "WARNING:matplotlib.legend:No artists with labels found to put in legend.  Note that artists whose label start with an underscore are ignored when legend() is called with no argument.\n"
          ]
        },
        {
          "output_type": "display_data",
          "data": {
            "text/plain": [
              "<Figure size 1200x600 with 1 Axes>"
            ],
            "image/png": "[encoded data removed]"
          },
          "metadata": {}
        }
      ]
    },
    {
      "cell_type": "code",
      "source": [
        "#PLOTTING SCATTER PLT FOR 3 MODEL ACCURACIES\n",
        "plt.figure(figsize=(12, 6))\n",
        "x=['CNN acc','VGG acc','RESNET-50 acc']\n",
        "y=[0.5,0.5,0.5]\n",
        "plt.scatter(x,y,color='lightgreen',s=200)\n",
        "\n",
        "plt.title('3-Image Classifier and their Accuracy')\n",
        "plt.xlabel('Image Classifiers')\n",
        "plt.ylabel('Accuracy')\n",
        "plt.legend()\n",
        "plt.grid()\n",
        "plt.show()"
      ],
      "metadata": {
        "colab": {
          "base_uri": "https://localhost:8080/",
          "height": 581
        },
        "id": "_Ydw44C6xfcX",
        "outputId": "a38212b5-4ba8-4da1-ddd9-1c2ff925d6d0"
      },
      "execution_count": 39,
      "outputs": [
        {
          "output_type": "stream",
          "name": "stderr",
          "text": [
            "WARNING:matplotlib.legend:No artists with labels found to put in legend.  Note that artists whose label start with an underscore are ignored when legend() is called with no argument.\n"
          ]
        },
        {
          "output_type": "display_data",
          "data": {
            "text/plain": [
              "<Figure size 1200x600 with 1 Axes>"
            ],
            "image/png": "[encoded data removed]"
          },
          "metadata": {}
        }
      ]
    }
  ]
}